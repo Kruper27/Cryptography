{
 "cells": [
  {
   "cell_type": "code",
   "execution_count": 28,
   "metadata": {},
   "outputs": [],
   "source": [
    "#Цю роботу перевірив Євген Володимирович \n",
    "\n",
    "from matplotlib import pyplot as plt\n",
    "\n",
    "# алфавіт\n",
    "UA = 'абвгґдеєжзиіїйклмнопрстуфхцчшщьюя'"
   ]
  },
  {
   "cell_type": "code",
   "execution_count": 7,
   "metadata": {},
   "outputs": [],
   "source": [
    "# функція яка підганяє ключ під розмір тексту\n",
    "def generateKey(string, key):\n",
    "    key = list(key)\n",
    "    if len(string) == len(key):\n",
    "        return key\n",
    "    else:\n",
    "        for i in range(len(string) - len(key)):\n",
    "            key.append(key[i % len(key)])\n",
    "    return \"\" . join(key)"
   ]
  },
  {
   "cell_type": "code",
   "execution_count": 8,
   "metadata": {},
   "outputs": [],
   "source": [
    "# функція яка шифрує текст\n",
    "def cipherText(string, key):\n",
    "    cipher_text = []\n",
    "    for i in range(len(string)):\n",
    "        x = (UA.index(string[i]) + UA.index(key[i])) % 33\n",
    "        cipher_text.append(UA[x])\n",
    "    return \"\" . join(cipher_text)"
   ]
  },
  {
   "cell_type": "code",
   "execution_count": 9,
   "metadata": {},
   "outputs": [],
   "source": [
    "# функція яка використовується дял дешифрування тексту\n",
    "def decipherText(ct, key):\n",
    "    cipher_text = []\n",
    "    for i in range(len(ct)):\n",
    "        x = (UA.index(ct[i]) - UA.index(key[i])) % 33\n",
    "        cipher_text.append(UA[x])\n",
    "    return \"\" . join(cipher_text)"
   ]
  },
  {
   "cell_type": "code",
   "execution_count": 22,
   "metadata": {},
   "outputs": [],
   "source": [
    "# функція дял побудови гістограми\n",
    "\n",
    "def frequency_histogram(text):\n",
    "    # результуючий словник у якому будуть зберігатися букви та їх частота використання\n",
    "    freq_dict = {}\n",
    "    # лічильник який рахує українські літери,що зустрічаються у тексті\n",
    "    sch = 0\n",
    "    for char in text:\n",
    "        if UA.__contains__(char):\n",
    "            sch += 1\n",
    "            if char in freq_dict.keys():\n",
    "                freq_dict[char] += 1\n",
    "            else:\n",
    "                freq_dict[char] = 1\n",
    "    for key in freq_dict.keys():\n",
    "        freq_dict[key] /= sch\n",
    "    plt.bar(freq_dict.keys(), freq_dict.values())\n",
    "    plt.show()\n",
    "    return freq_dict"
   ]
  },
  {
   "cell_type": "code",
   "execution_count": 23,
   "metadata": {},
   "outputs": [
    {
     "data": {
      "text/plain": [
       "'зимазимазимазимазимазим'"
      ]
     },
     "execution_count": 23,
     "metadata": {},
     "output_type": "execute_result"
    }
   ],
   "source": [
    "string = \"весна красна колись прийде\"\n",
    "keyword = \"зима\"\n",
    "string = string.replace(\" \", \"\")\n",
    "key = generateKey(string, keyword)\n",
    "key"
   ]
  },
  {
   "cell_type": "code",
   "execution_count": 24,
   "metadata": {},
   "outputs": [
    {
     "name": "stdout",
     "output_type": "stream",
     "text": [
      "Ciphertext : імґнзфгаьчмкчхцсещгитлт\n"
     ]
    }
   ],
   "source": [
    "cipher_text = cipherText(string, key)\n",
    "print(\"Ciphertext :\", cipher_text)"
   ]
  },
  {
   "cell_type": "code",
   "execution_count": 25,
   "metadata": {},
   "outputs": [
    {
     "name": "stdout",
     "output_type": "stream",
     "text": [
      "decipher:  повеснірокудвоєподорожніхверхинадобрихконяхізближалисьдокиєвазбілогородськогошлях\n"
     ]
    }
   ],
   "source": [
    "k = \"якийсьрандомнийключ\"\n",
    "tmp = \"ояїпзкюрвпжспшраагїпяоьяттеґьшанлюлвжпйячїйжщбялцмярбірмжзсїйьююлвжггвлбіщмьнзхїй\"\n",
    "kk = generateKey(tmp, k)\n",
    "wq = decipherText(tmp, kk)\n",
    "print(\"Deciphered text :\", wq)"
   ]
  },
  {
   "cell_type": "code",
   "execution_count": 26,
   "metadata": {},
   "outputs": [
    {
     "data": {
      "image/png": "[encoded data removed]",
      "text/plain": [
       "<Figure size 432x288 with 1 Axes>"
      ]
     },
     "metadata": {
      "needs_background": "light"
     },
     "output_type": "display_data"
    },
    {
     "data": {
      "text/plain": [
       "{'й': 0.02,\n",
       " 'л': 0.12,\n",
       " 'в': 0.1,\n",
       " 'ь': 0.02,\n",
       " 'і': 0.14,\n",
       " 'ф': 0.22,\n",
       " 'ц': 0.02,\n",
       " 'щ': 0.08,\n",
       " 'х': 0.02,\n",
       " 'а': 0.12,\n",
       " 'д': 0.02,\n",
       " 'б': 0.02,\n",
       " 'т': 0.02,\n",
       " 'г': 0.02,\n",
       " 'и': 0.02,\n",
       " 'у': 0.04}"
      ]
     },
     "execution_count": 26,
     "metadata": {},
     "output_type": "execute_result"
    }
   ],
   "source": [
    "text = \"йлвьіфлвфілвлфцщхадбфілатфгіивфівіффффалфщіащуащуа\"\n",
    "frequency_histogram(text)"
   ]
  },
  {
   "cell_type": "code",
   "execution_count": null,
   "metadata": {},
   "outputs": [],
   "source": []
  }
 ],
 "metadata": {
  "kernelspec": {
   "display_name": "Python 3",
   "language": "python",
   "name": "python3"
  },
  "language_info": {
   "codemirror_mode": {
    "name": "ipython",
    "version": 3
   },
   "file_extension": ".py",
   "mimetype": "text/x-python",
   "name": "python",
   "nbconvert_exporter": "python",
   "pygments_lexer": "ipython3",
   "version": "3.7.4"
  }
 },
 "nbformat": 4,
 "nbformat_minor": 1
}
